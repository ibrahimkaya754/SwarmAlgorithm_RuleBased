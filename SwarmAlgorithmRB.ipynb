{
 "cells": [
  {
   "cell_type": "markdown",
   "metadata": {},
   "source": [
    "# Swarm Algorithm for Objects Moving in 2D Domain\n",
    "The swarm concept in recents years gained quite popularity in many applications, especially in defence industry. The most attracting side of swarm concept is to be able to fulfill complex duties with relatively cheap ammo.\n",
    "\n",
    "The code below shows swarming particles (like drones) in 2 Dimensional domain and has been generated with rule based algorithm given in the great paper \"Outdoor flocking and formation flight with autonomous aerial robots\" by Vicsek et. al. [1] The document referenced in [2] is also a very explanatory and beneficial to understand the basics of swarm concept.\n",
    "\n",
    "The first thing to do is to import necessary packages to our environment. "
   ]
  },
  {
   "cell_type": "markdown",
   "metadata": {},
   "source": [
    "# Refences\n",
    "[1] \"Outdoor flocking and formation flight with autonomous aerial robots\", G. Vásárhelyi, Cs. Virágh, G. Somorjai, N. Tarcai, T. Szörényi, T. Nepusz, T. Vicsek\n",
    "\n",
    "[2] \"Dynamic Mission Control for UAV Swarm via Task Stimulus Approach\", Haoyang Cheng , John Page, John Olsen\n",
    "\n",
    "[3] https://github.com/ibrahimkaya754/GeneticAlgorithm"
   ]
  },
  {
   "cell_type": "code",
   "execution_count": 1,
   "metadata": {
    "code_folding": []
   },
   "outputs": [
    {
     "name": "stdout",
     "output_type": "stream",
     "text": [
      "pygame 1.9.6\n",
      "Hello from the pygame community. https://www.pygame.org/contribute.html\n"
     ]
    }
   ],
   "source": [
    "# Import neccessary modules\n",
    "import time\n",
    "import math\n",
    "import matplotlib.pyplot as plt\n",
    "import pygame\n",
    "import random\n",
    "import numpy as np\n",
    "from pygame.locals import *\n",
    "from PygameModule import *\n",
    "from Swarm_Algorithm_RuleBased import *\n",
    "\n",
    "import os\n",
    "os.environ[\"CUDA_DEVICE_ORDER\"]=\"PCI_BUS_ID\"\n",
    "os.environ[\"CUDA_VISIBLE_DEVICES\"]=\"0\""
   ]
  },
  {
   "cell_type": "markdown",
   "metadata": {},
   "source": [
    "What is next is, we are deciding the values of some simulation parameters, like the time step size, number of particles swarming, total run time, etc."
   ]
  },
  {
   "cell_type": "code",
   "execution_count": 2,
   "metadata": {
    "code_folding": []
   },
   "outputs": [],
   "source": [
    "# Simulation Parameters\n",
    "number_of_particles = 51\n",
    "number_of_axes      = 2\n",
    "delta_t             = 0.1\n",
    "t_final             = 1000\n",
    "wght_leader         = np.array((0.0,0.0,0.0,0.0,10.0,0.0))"
   ]
  },
  {
   "cell_type": "markdown",
   "metadata": {},
   "source": [
    "# Main Parameters\n",
    "The parameters given below inside the main function has been obtained by Genetic Algorithm (GA). The writers of the paper did not give the values of the parameters, which is quite reasonable to some point, since every application has its own dynamics, i.e., the parameters from one applicastion to the other will probably be very different. For my application, I used GA code I have shared in my github repo [3] and the algorithm has given the parameters seen inside the main function.\n",
    "\n",
    "There are 2 important modules imported to our environment above. One of them is PygameModule which generates the neccessary things for visualization of the particles moving with swarm condition. The other one is the Swarm_Algoritm_RuleBased, where the rulebased algorithm given in the paper is coded.\n",
    "\n",
    "What is happenning in the simulation can be summarized as the following:\n",
    "\n",
    "* There are 51 particles swarming in the domain\n",
    "\n",
    "* One of them is the leader that every information about the mission is known by\n",
    "\n",
    "* The other 50 particles does not know anything about the mission but the only thing they know is they should follow the leader without creating any crash inside the population\n",
    "\n",
    "* The points of the target that is to be followed were given in the list of waypoints, where it can be changed inside the domain randomly.\n",
    "\n",
    "* The parameters obtained by GA has been generated for a fitness function minimizing the sum of the distances between the group members (minimization of the dispersion), while preventing the individual particles from approaching to eachother greater than a value defined (8 meters given in our case).\n",
    "\n",
    "* Although the number of total particles (population) has been given as 51, it can be increased (to 100s) or decreased (to around 10) since the algorithm coded can be applied for any number of particles, i.e., the algorithm given here is scalable."
   ]
  },
  {
   "cell_type": "code",
   "execution_count": 3,
   "metadata": {},
   "outputs": [],
   "source": [
    "best_position_ever =  {'0': 100.0, '1': -29.502830955423967, '2': 40.0, '3': -80.0, '4': 49.239408894108735, '5': 69.4889095430853, '6': -16.45707771113734, '7': 45.976918859252244, '8': -21.78497237857093, '9': 26.073719622400425, '10': 80.0, '11': 35.34442652774326, '12': -16.19787803302063, '13': -5.352750737163234}"
   ]
  },
  {
   "cell_type": "code",
   "execution_count": 4,
   "metadata": {},
   "outputs": [],
   "source": [
    "params_best = [param for param in best_position_ever.values()]"
   ]
  },
  {
   "cell_type": "code",
   "execution_count": 5,
   "metadata": {},
   "outputs": [
    {
     "data": {
      "text/plain": [
       "[100.0,\n",
       " -29.502830955423967,\n",
       " 40.0,\n",
       " -80.0,\n",
       " 49.239408894108735,\n",
       " 69.4889095430853,\n",
       " -16.45707771113734,\n",
       " 45.976918859252244,\n",
       " -21.78497237857093,\n",
       " 26.073719622400425,\n",
       " 80.0,\n",
       " 35.34442652774326,\n",
       " -16.19787803302063,\n",
       " -5.352750737163234]"
      ]
     },
     "execution_count": 5,
     "metadata": {},
     "output_type": "execute_result"
    }
   ],
   "source": [
    "params_best"
   ]
  },
  {
   "cell_type": "code",
   "execution_count": 6,
   "metadata": {
    "code_folding": []
   },
   "outputs": [],
   "source": [
    "# main function\n",
    "def main(paramaters=[19.087,77.570,74.741,49.385,50.461,31.121,715.096,\n",
    "                     87.658,-8.527,9.441,-1.126,7.908,5.326,-3.060],TimeConstant=0.1):\n",
    "    wght_fllwr               = np.array((paramaters[8],paramaters[9],paramaters[10],\n",
    "                                         paramaters[11],paramaters[12],paramaters[13]),dtype='double')\n",
    "    distances                = np.zeros((number_of_particles,number_of_particles*number_of_axes))\n",
    "    distances_abs            = np.zeros((number_of_particles,number_of_particles))\n",
    "    closest_distances_abs    = np.zeros((number_of_particles,number_of_particles))\n",
    "    closest_particles_abs    = np.zeros((number_of_particles,number_of_particles),dtype='int32')\n",
    "    closestneighbours        = np.zeros((number_of_particles),dtype='int16')\n",
    "    position                 = np.zeros((number_of_particles,number_of_axes)) \n",
    "    velocity                 = np.zeros((number_of_particles,number_of_axes)) \n",
    "    position_delta           = np.zeros((number_of_particles,number_of_axes))\n",
    "    dist_twp                 = np.zeros((number_of_particles-1,1))\n",
    "\n",
    "    screen_size = [3000, 1300]\n",
    "    screen = pygame.display.set_mode(tuple(screen_size))\n",
    "    pygame.display.set_caption(\"Swarm\")\n",
    "    \n",
    "#     xtrg              = [2200.0,650.0] + np.round(np.multiply(np.subtract(screen_size,[2700,1200]),[np.random.random()]))\n",
    "    xtrg              = [2400,200]\n",
    "    list_min_distance = []\n",
    "    list_ave_distance = []\n",
    "            \n",
    "    background = pygame.Surface(screen.get_size())\n",
    "    background.fill((255, 255, 255))\n",
    "    screen.blit(background, (0, 0))\n",
    "    \n",
    "    particles = np.zeros((number_of_particles),dtype = particle)\n",
    "    for ii in range(number_of_particles-2):\n",
    "        particles[ii]  = particle(screen, background, color =0)\n",
    "        position[ii,0] = particles[ii].positionx\n",
    "        position[ii,1] = particles[ii].positiony\n",
    "        velocity[ii,0] = particles[ii].velx\n",
    "        velocity[ii,1] = particles[ii].vely\n",
    "    for ii in range(number_of_particles-2,number_of_particles-1):\n",
    "        particles[ii]  = particle(screen, background, color =1)\n",
    "        position[ii,0] = particles[ii].positionx\n",
    "        position[ii,1] = particles[ii].positiony\n",
    "        velocity[ii,0] = particles[ii].velx\n",
    "        velocity[ii,1] = particles[ii].vely\n",
    "    for ii in range(number_of_particles-1,number_of_particles):\n",
    "        particles[ii]  = particle(screen, background, color =2)\n",
    "        particles[ii].positionx = xtrg[0]\n",
    "        particles[ii].positiony = xtrg[1]\n",
    "        position[ii,0] = particles[ii].positionx\n",
    "        position[ii,1] = particles[ii].positiony\n",
    "        velocity[ii,0] = particles[ii].velx\n",
    "        velocity[ii,1] = particles[ii].vely\n",
    "    \n",
    "    dist = distance(population_number=number_of_particles,dimension=number_of_axes,\n",
    "                    distances=distances,distances_abs=distances_abs,\n",
    "                    position=position,\n",
    "                    closest_distances_abs=closest_distances_abs,closest_particles_abs=closest_particles_abs,\n",
    "                    closestneighbours=closestneighbours)\n",
    "    \n",
    "    distances,distances_abs,closest_distances_abs,closest_particles_abs,closestneighbours = dist.find_distances()\n",
    "    swarm_algo_follower = swarm_algorithm(params=paramaters)\n",
    "    swarm_algo_leader   = swarm_algorithm(params=paramaters)\n",
    "    \n",
    "    allSprites = pygame.sprite.Group(particles[:]) # Grouping the objects to use the uniform method\n",
    "    clock = pygame.time.Clock()\n",
    "    time1 = time.process_time()\n",
    "    keepGoing = True\n",
    "    iter      = 0\n",
    "    t         = 0\n",
    "    counter   = 0\n",
    "\n",
    "    while keepGoing:\n",
    "        try:\n",
    "            xtrg      = np.add(xtrg,np.multiply([4,4],0.01))\n",
    "            remainder = iter % 100        \n",
    "            for ii in range(number_of_particles-2):\n",
    "                dist_to_ldr = dist.dist_to_wypnt(position[ii],position[number_of_particles-2])\n",
    "                for jj in range(number_of_axes):\n",
    "                    swarm_algo_follower.algo(particle=ii,axes=jj,position=position,velocity=velocity,\n",
    "                                             closest_particles_abs=closest_particles_abs,delta_t=delta_t,\n",
    "                                             xtrg=position[number_of_particles-2],TimeConstant=TimeConstant,\n",
    "                                             wght=wght_fllwr,distance_to_target=dist_to_ldr)\n",
    "                    position_delta[ii,jj] = swarm_algo_follower.position_delta\n",
    "                    velocity[ii,jj]       = swarm_algo_follower.velocity[ii,jj]\n",
    "                \n",
    "                particles[ii].dx = position_delta[ii,0]\n",
    "                particles[ii].dy = position_delta[ii,1]\n",
    "                \n",
    "                particles[ii].update()\n",
    "                position[ii,0] = particles[ii].positionx\n",
    "                position[ii,1] = particles[ii].positiony                    \n",
    "            \n",
    "            for ii in range(number_of_particles-2,number_of_particles-1):\n",
    "                dist_to_trg = dist.dist_to_wypnt(position[ii],xtrg)\n",
    "                for jj in range(number_of_axes): \n",
    "                    swarm_algo_leader.algo(particle=ii,axes=jj,position=position,velocity=velocity,delta_t=delta_t,\n",
    "                                           closest_particles_abs=closest_particles_abs,TimeConstant=TimeConstant, \n",
    "                                           xtrg=xtrg,wght=wght_leader,distance_to_target=dist_to_trg)\n",
    "                    \n",
    "                    position_delta[ii,jj] = swarm_algo_leader.position_delta  \n",
    "                    velocity[ii,jj]       = swarm_algo_leader.velocity[ii,jj]\n",
    "    \n",
    "                particles[ii].dx = position_delta[ii,0]\n",
    "                particles[ii].dy = position_delta[ii,1]\n",
    "                particles[ii].update()\n",
    "                position[ii,0] = particles[ii].positionx\n",
    "                position[ii,1] = particles[ii].positiony       \n",
    "                              \n",
    "            particles[number_of_particles-1].dx          = 0\n",
    "            particles[number_of_particles-1].dy          = 0\n",
    "            particles[number_of_particles-1].update()\n",
    "            particles[number_of_particles-1].positionx   = xtrg[0]\n",
    "            particles[number_of_particles-1].positiony   = xtrg[1]                \n",
    "            particles[number_of_particles-1].rect.center = (particles[number_of_particles-1].positionx, \n",
    "                                                            particles[number_of_particles-1].positiony)\n",
    "            \n",
    "            position[number_of_particles-1,0]            = particles[number_of_particles-1].positionx\n",
    "            position[number_of_particles-1,1]            = particles[number_of_particles-1].positiony\n",
    "            \n",
    "            distances,distances_abs,closest_distances_abs, \\\n",
    "            closest_particles_abs,closestneighbours = dist.find_distances()\n",
    "            dist_to_trg = dist.dist_to_wypnt(position[number_of_particles-2],xtrg)\n",
    "            \n",
    "            iter = iter + 1\n",
    "            t    = t + delta_t\n",
    "            counter = counter + 1\n",
    "            list_min_distance.append(np.min(closest_distances_abs[0:98,1]))\n",
    "            list_ave_distance.append(np.average(closest_distances_abs[0:98,1:100]))\n",
    "            \n",
    "            if dist_to_trg <= 5.0:\n",
    "                if np.random.rand() >= 0.98:\n",
    "                    xtrg      = [50.0,50.0] + \\\n",
    "                                np.round(np.multiply(np.subtract(screen_size,[100,100]),[np.random.random()]))\n",
    "            \n",
    "            if t >= t_final:\n",
    "                keepGoing = False\n",
    "            \n",
    "            if remainder == 0:\n",
    "                print('time = ',t,' s ', ' target_pos = ', xtrg)\n",
    "                print('average_min_distance = ', np.average(list_min_distance))\n",
    "                print('average_group_distance = ', np.average(list_ave_distance))\n",
    "                print('\\n')\n",
    "                counter = 0\n",
    "#################################################################################################################################\n",
    "            allSprites.clear(screen, background)\n",
    "            allSprites.draw(screen)\\\n",
    "\n",
    "            pygame.display.flip()\n",
    "        except:\n",
    "            print('unexpected error --- sorry')\n",
    "            keepGoing = False\n",
    "            \n",
    "    pygame.quit()\n",
    "    time2 = time.process_time()\n",
    "    delta_time = time2 - time1\n",
    "    return position,velocity,distances,closestneighbours,delta_time, \\\n",
    "           closest_particles_abs, closest_distances_abs, list_min_distance, list_ave_distance"
   ]
  },
  {
   "cell_type": "markdown",
   "metadata": {},
   "source": [
    "Below is the cell where the above code is run. \n",
    "\n",
    "Although I have run the code for a simulation time of 100 seconds, one can run it as long as he likes."
   ]
  },
  {
   "cell_type": "code",
   "execution_count": 7,
   "metadata": {
    "code_folding": [],
    "scrolled": true
   },
   "outputs": [
    {
     "name": "stdout",
     "output_type": "stream",
     "text": [
      "time =  0.1  s   target_pos =  [2400.04  200.04]\n",
      "average_min_distance =  4.412241687360311\n",
      "average_group_distance =  435.17345758189373\n",
      "\n",
      "\n",
      "time =  10.09999999999998  s   target_pos =  [2404.04  204.04]\n",
      "average_min_distance =  4.846999589084988\n",
      "average_group_distance =  438.9026846872932\n",
      "\n",
      "\n",
      "time =  20.100000000000016  s   target_pos =  [2408.04  208.04]\n",
      "average_min_distance =  9.75433046084003\n",
      "average_group_distance =  443.00092977003817\n",
      "\n",
      "\n",
      "time =  30.100000000000158  s   target_pos =  [2412.04  212.04]\n",
      "average_min_distance =  11.567578040422287\n",
      "average_group_distance =  446.1705606928886\n",
      "\n",
      "\n",
      "time =  40.1000000000003  s   target_pos =  [2416.04  216.04]\n",
      "average_min_distance =  12.476462737419876\n",
      "average_group_distance =  449.2177183874468\n",
      "\n",
      "\n",
      "unexpected error --- sorry\n"
     ]
    }
   ],
   "source": [
    "# run\n",
    "if __name__ == \"__main__\":\n",
    "    position,velocity,distances,closestneighbours,delta_time, \\\n",
    "    closest_particles_abs,closest_distances_abs, list_min_distance, list_ave_distance = main(params_best,TimeConstant=0.0001)"
   ]
  },
  {
   "cell_type": "code",
   "execution_count": 8,
   "metadata": {},
   "outputs": [
    {
     "data": {
      "text/plain": [
       "PygameModule.particle"
      ]
     },
     "execution_count": 8,
     "metadata": {},
     "output_type": "execute_result"
    }
   ],
   "source": []
  },
  {
   "cell_type": "code",
   "execution_count": null,
   "metadata": {},
   "outputs": [],
   "source": [
    "velocity"
   ]
  },
  {
   "cell_type": "code",
   "execution_count": null,
   "metadata": {
    "scrolled": true
   },
   "outputs": [],
   "source": [
    "plt.plot(np.arange(len(list_ave_distance)),list_ave_distance)"
   ]
  },
  {
   "cell_type": "code",
   "execution_count": null,
   "metadata": {},
   "outputs": [],
   "source": [
    "list_ave_distance_kinetic_50 = list_ave_distance"
   ]
  },
  {
   "cell_type": "code",
   "execution_count": null,
   "metadata": {},
   "outputs": [],
   "source": [
    "plt.figure(figsize=(26,9))\n",
    "plt.plot(np.arange(len(list_ave_distance)),list_ave_distance_kinematic,label='kinematic')\n",
    "plt.plot(np.arange(len(list_ave_distance)),list_ave_distance_kinetic_01,label='TimeConstant=0.01')\n",
    "plt.plot(np.arange(len(list_ave_distance)),list_ave_distance_kinetic_02,label='TimeConstant=0.02')\n",
    "plt.plot(np.arange(len(list_ave_distance)),list_ave_distance_kinetic_03,label='TimeConstant=0.03')\n",
    "plt.plot(np.arange(len(list_ave_distance)),list_ave_distance_kinetic_05,label='TimeConstant=0.05')\n",
    "plt.plot(np.arange(len(list_ave_distance)),list_ave_distance_kinetic_10,label='TimeConstant=0.10')\n",
    "plt.plot(np.arange(len(list_ave_distance)),list_ave_distance_kinetic_15,label='TimeConstant=0.15')\n",
    "plt.plot(np.arange(len(list_ave_distance)),list_ave_distance_kinetic_20,label='TimeConstant=0.20')\n",
    "plt.plot(np.arange(len(list_ave_distance)),list_ave_distance_kinetic_50,label='TimeConstant=0.50')\n",
    "plt.legend()\n",
    "plt.show()"
   ]
  },
  {
   "cell_type": "code",
   "execution_count": null,
   "metadata": {},
   "outputs": [],
   "source": []
  }
 ],
 "metadata": {
  "kernelspec": {
   "display_name": "Python 3",
   "language": "python",
   "name": "python3"
  },
  "language_info": {
   "codemirror_mode": {
    "name": "ipython",
    "version": 3
   },
   "file_extension": ".py",
   "mimetype": "text/x-python",
   "name": "python",
   "nbconvert_exporter": "python",
   "pygments_lexer": "ipython3",
   "version": "3.6.10"
  },
  "latex_envs": {
   "LaTeX_envs_menu_present": true,
   "autoclose": false,
   "autocomplete": true,
   "bibliofile": "biblio.bib",
   "cite_by": "apalike",
   "current_citInitial": 1,
   "eqLabelWithNumbers": true,
   "eqNumInitial": 1,
   "hotkeys": {
    "equation": "Ctrl-E",
    "itemize": "Ctrl-I"
   },
   "labels_anchors": false,
   "latex_user_defs": false,
   "report_style_numbering": false,
   "user_envs_cfg": false
  },
  "nbTranslate": {
   "displayLangs": [
    "*"
   ],
   "hotkey": "alt-t",
   "langInMainMenu": true,
   "sourceLang": "en",
   "targetLang": "fr",
   "useGoogleTranslate": true
  },
  "toc": {
   "base_numbering": 1,
   "nav_menu": {},
   "number_sections": true,
   "sideBar": true,
   "skip_h1_title": false,
   "title_cell": "Table of Contents",
   "title_sidebar": "Contents",
   "toc_cell": false,
   "toc_position": {},
   "toc_section_display": true,
   "toc_window_display": false
  },
  "varInspector": {
   "cols": {
    "lenName": 16,
    "lenType": 16,
    "lenVar": 40
   },
   "kernels_config": {
    "python": {
     "delete_cmd_postfix": "",
     "delete_cmd_prefix": "del ",
     "library": "var_list.py",
     "varRefreshCmd": "print(var_dic_list())"
    },
    "r": {
     "delete_cmd_postfix": ") ",
     "delete_cmd_prefix": "rm(",
     "library": "var_list.r",
     "varRefreshCmd": "cat(var_dic_list()) "
    }
   },
   "types_to_exclude": [
    "module",
    "function",
    "builtin_function_or_method",
    "instance",
    "_Feature"
   ],
   "window_display": false
  }
 },
 "nbformat": 4,
 "nbformat_minor": 4
}
