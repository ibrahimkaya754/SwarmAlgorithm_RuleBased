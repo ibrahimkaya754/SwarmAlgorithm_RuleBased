{
 "cells": [
  {
   "cell_type": "markdown",
   "metadata": {},
   "source": [
    "# Swarm Algorithm for Objects Moving in 2D Domain\n",
    "The swarm concept in recents years gained quite popularity in many applications, especially in defence industry. The most attracting side of swarm concept is to be able to fulfill complex duties with relatively cheap ammo.\n",
    "\n",
    "The code below shows swarming particles (like drones) in 2 Dimensional domain and has been generated with rule based algorithm given in the great paper \"Outdoor flocking and formation flight with autonomous aerial robots\" by Vicsek et. al. [1] The document referenced in [2] is also a very explanatory and beneficial to understand the basics of swarm concept.\n",
    "\n",
    "The first thing to do is to import necessary packages to our environment. "
   ]
  },
  {
   "cell_type": "markdown",
   "metadata": {},
   "source": [
    "# Refences\n",
    "[1] \"Outdoor flocking and formation flight with autonomous aerial robots\", G. Vásárhelyi, Cs. Virágh, G. Somorjai, N. Tarcai, T. Szörényi, T. Nepusz, T. Vicsek\n",
    "\n",
    "[2] \"Dynamic Mission Control for UAV Swarm via Task Stimulus Approach\", Haoyang Cheng , John Page, John Olsen\n",
    "\n",
    "[3] https://github.com/ibrahimkaya754/GeneticAlgorithm"
   ]
  },
  {
   "cell_type": "code",
   "execution_count": 1,
   "metadata": {
    "code_folding": []
   },
   "outputs": [
    {
     "name": "stdout",
     "output_type": "stream",
     "text": [
      "pygame 1.9.6\n",
      "Hello from the pygame community. https://www.pygame.org/contribute.html\n"
     ]
    }
   ],
   "source": [
    "# Import neccessary modules\n",
    "import time\n",
    "import math\n",
    "import matplotlib.pyplot as plt\n",
    "import pygame\n",
    "import random\n",
    "import numpy as np\n",
    "from pygame.locals import *\n",
    "from PygameModule import *\n",
    "from Swarm_Algorithm_RuleBased import *"
   ]
  },
  {
   "cell_type": "markdown",
   "metadata": {},
   "source": [
    "What is next is, we are deciding the values of some simulation parameters, like the time step size, number of particles swarming, total run time, etc."
   ]
  },
  {
   "cell_type": "code",
   "execution_count": 5,
   "metadata": {
    "code_folding": []
   },
   "outputs": [],
   "source": [
    "# Simulation Parameters\n",
    "number_of_particles = 21\n",
    "number_of_axes      = 2\n",
    "delta_t             = 0.01\n",
    "t_final             = 10\n",
    "wght_leader         = np.array((0.0,0.0,0.0,0.0,10.0,0.0))"
   ]
  },
  {
   "cell_type": "markdown",
   "metadata": {},
   "source": [
    "# Main Parameters\n",
    "The parameters given below inside the main function has been obtained by Genetic Algorithm (GA). The writers of the paper did not give the values of the parameters, which is quite reasonable to some point, since every application has its own dynamics, i.e., the parameters from one applicastion to the other will probably be very different. For my application, I used GA code I have shared in my github repo [3] and the algorithm has given the parameters seen inside the main function.\n",
    "\n",
    "There are 2 important modules imported to our environment above. One of them is PygameModule which generates the neccessary things for visualization of the particles moving with swarm condition. The other one is the Swarm_Algoritm_RuleBased, where the rulebased algorithm given in the paper is coded.\n",
    "\n",
    "What is happenning in the simulation can be summarized as the following:\n",
    "\n",
    "* There are 51 particles swarming in the domain\n",
    "\n",
    "* One of them is the leader that every information about the mission is known by\n",
    "\n",
    "* The other 50 particles does not know anything about the mission but the only thing they know is they should follow the leader without creating any crash inside the population\n",
    "\n",
    "* The points of the target that is to be followed were given in the list of waypoints, where it can be changed inside the domain randomly.\n",
    "\n",
    "* The parameters obtained by GA has been generated for a fitness function minimizing the sum of the distances between the group members (minimization of the dispersion), while preventing the individual particles from approaching to eachother greater than a value defined (8 meters given in our case).\n",
    "\n",
    "* Although the number of total particles (population) has been given as 51, it can be increased (to 100s) or decreased (to around 10) since the algorithm coded can be applied for any number of particles, i.e., the algorithm given here is scalable."
   ]
  },
  {
   "cell_type": "code",
   "execution_count": 6,
   "metadata": {
    "code_folding": []
   },
   "outputs": [],
   "source": [
    "# main function\n",
    "def main(paramaters=[19.087,77.570,74.741,49.385,50.461,31.121,715.096,\n",
    "                     87.658,-8.527,9.441,-1.126,7.908,5.326,-3.060]):\n",
    "    wght_fllwr               = np.array((paramaters[8],paramaters[9],paramaters[10],\n",
    "                                         paramaters[11],paramaters[12],paramaters[13]),dtype='double')\n",
    "    distances                = np.zeros((number_of_particles,number_of_particles*number_of_axes))\n",
    "    distances_abs            = np.zeros((number_of_particles,number_of_particles))\n",
    "    closest_distances_abs    = np.zeros((number_of_particles,number_of_particles))\n",
    "    closest_particles_abs    = np.zeros((number_of_particles,number_of_particles),dtype='int32')\n",
    "    closestneighbours        = np.zeros((number_of_particles),dtype='int16')\n",
    "    position                 = np.zeros((number_of_particles,number_of_axes)) \n",
    "    velocity                 = np.zeros((number_of_particles,number_of_axes)) \n",
    "    position_delta           = np.zeros((number_of_particles,number_of_axes)) \n",
    "    dist_twp                 = np.zeros((number_of_particles-1,1))\n",
    "\n",
    "    waypoints   = [[680,680]]\n",
    "    waypoint_no = np.random.randint(0,len(waypoints))\n",
    "    xtrg        = np.array(waypoints[waypoint_no])\n",
    "    list_min_distance = []\n",
    "    list_ave_distance = []\n",
    "        \n",
    "    screen = pygame.display.set_mode((700, 700))\n",
    "    pygame.display.set_caption(\"Swarm\")\n",
    "    \n",
    "    background = pygame.Surface(screen.get_size())\n",
    "    background.fill((255, 255, 255))\n",
    "    screen.blit(background, (0, 0))\n",
    "    \n",
    "    particles = np.zeros((number_of_particles),dtype = particle)\n",
    "    for ii in range(number_of_particles-2):\n",
    "        particles[ii]  = particle(screen, background, color =0)\n",
    "        position[ii,0] = particles[ii].positionx\n",
    "        position[ii,1] = particles[ii].positiony\n",
    "        velocity[ii,0] = particles[ii].velx\n",
    "        velocity[ii,1] = particles[ii].vely\n",
    "    for ii in range(number_of_particles-2,number_of_particles-1):\n",
    "        particles[ii]  = particle(screen, background, color =1)\n",
    "        position[ii,0] = particles[ii].positionx\n",
    "        position[ii,1] = particles[ii].positiony\n",
    "        velocity[ii,0] = particles[ii].velx\n",
    "        velocity[ii,1] = particles[ii].vely\n",
    "    for ii in range(number_of_particles-1,number_of_particles):\n",
    "        particles[ii]  = particle(screen, background, color =2)\n",
    "        particles[ii].positionx = xtrg[0]\n",
    "        particles[ii].positiony = xtrg[1]\n",
    "        position[ii,0] = particles[ii].positionx\n",
    "        position[ii,1] = particles[ii].positiony\n",
    "        velocity[ii,0] = particles[ii].velx\n",
    "        velocity[ii,1] = particles[ii].vely\n",
    "    \n",
    "    \n",
    "    dist = distance(population_number=number_of_particles,dimension=number_of_axes,\n",
    "                    distances=distances,distances_abs=distances_abs,\n",
    "                    position=position,\n",
    "                    closest_distances_abs=closest_distances_abs,closest_particles_abs=closest_particles_abs,\n",
    "                    closestneighbours=closestneighbours)\n",
    "    \n",
    "    distances,distances_abs,closest_distances_abs,closest_particles_abs,closestneighbours = dist.find_distances()\n",
    "    swarm_algo_follower = swarm_algorithm(params=paramaters)\n",
    "    swarm_algo_leader   = swarm_algorithm(params=paramaters)\n",
    "    \n",
    "    allSprites = pygame.sprite.Group(particles[:]) # Grouping the objects to use the uniform method\n",
    "    clock = pygame.time.Clock()\n",
    "    time1 = time.process_time()\n",
    "    keepGoing = True\n",
    "    iter      = 0\n",
    "    t         = 0\n",
    "    counter   = 0\n",
    "\n",
    "    while keepGoing:\n",
    "        try:\n",
    "            xtrg      = np.array(waypoints[waypoint_no]) \n",
    "            remainder = iter % 100        \n",
    "            clock.tick(30)\n",
    "            for event in pygame.event.get():\n",
    "                if event.type == QUIT:\n",
    "                    keepGoing = False\n",
    "                elif event.type == KEYDOWN and event.key == K_ESCAPE:\n",
    "                    keepGoing = False\n",
    "                    \n",
    "            for ii in range(number_of_particles-2):\n",
    "                dist_to_ldr = dist.dist_to_wypnt(position[ii],position[number_of_particles-2])\n",
    "                for jj in range(number_of_axes):\n",
    "                    swarm_algo_follower.algo(particle=ii,axes=jj,position=position,velocity=velocity,\n",
    "                                             closest_particles_abs=closest_particles_abs,\n",
    "                                             xtrg=position[number_of_particles-2],\n",
    "                                             wght=wght_fllwr,distance_to_target=dist_to_ldr)\n",
    "                \n",
    "                    position_delta[ii,jj] = swarm_algo_follower.position_delta\n",
    "    \n",
    "                particles[ii].dx = position_delta[ii,0]\n",
    "                particles[ii].dy = position_delta[ii,1]\n",
    "                particles[ii].update()\n",
    "                position[ii,0] = particles[ii].positionx\n",
    "                position[ii,1] = particles[ii].positiony  \n",
    "            \n",
    "            for ii in range(number_of_particles-2,number_of_particles-1):\n",
    "                dist_to_trg = dist.dist_to_wypnt(position[ii],xtrg)\n",
    "                for jj in range(number_of_axes): \n",
    "                    swarm_algo_leader.algo(particle=ii,axes=jj,position=position,velocity=velocity,\n",
    "                                           closest_particles_abs=closest_particles_abs,\n",
    "                                           xtrg=xtrg,wght=wght_leader,distance_to_target=dist_to_trg)\n",
    "                    \n",
    "                    position_delta[ii,jj] = swarm_algo_leader.position_delta               \n",
    "    \n",
    "                particles[ii].dx = position_delta[ii,0]\n",
    "                particles[ii].dy = position_delta[ii,1]\n",
    "                particles[ii].update()\n",
    "                position[ii,0] = particles[ii].positionx\n",
    "                position[ii,1] = particles[ii].positiony        \n",
    "                  \n",
    "            particles[number_of_particles-1].dx          = 0\n",
    "            particles[number_of_particles-1].dy          = 0\n",
    "            particles[number_of_particles-1].update()\n",
    "            particles[number_of_particles-1].positionx   = xtrg[0]\n",
    "            particles[number_of_particles-1].positiony   = xtrg[1]                \n",
    "            particles[number_of_particles-1].rect.center = (particles[number_of_particles-1].positionx, \n",
    "                                                            particles[number_of_particles-1].positiony)\n",
    "            position[number_of_particles-1,0]            = particles[number_of_particles-1].positionx\n",
    "            position[number_of_particles-1,1]            = particles[number_of_particles-1].positiony\n",
    "            \n",
    "            distances,distances_abs,closest_distances_abs, \\\n",
    "            closest_particles_abs,closestneighbours = dist.find_distances()\n",
    "            dist_twp    = dist.distance_to_waypoint(waypoints[waypoint_no])\n",
    "            dist_to_trg = dist.dist_to_wypnt(position[number_of_particles-2],xtrg)\n",
    "            \n",
    "            iter = iter + 1\n",
    "            t    = t + delta_t\n",
    "            counter = counter + 1\n",
    "            list_min_distance.append(np.min(closest_distances_abs[0:98,1]))\n",
    "            list_ave_distance.append(np.average(closest_distances_abs[0:98,1:100]))\n",
    "            \n",
    "            if dist_to_trg <= 5.0:\n",
    "                if np.random.rand() >= 0.98:\n",
    "                    waypoint_no = np.random.randint(0,len(waypoints))\n",
    "            \n",
    "            if t >= t_final:\n",
    "                keepGoing = False\n",
    "            \n",
    "            if remainder == 0:\n",
    "                print('time = ',t,' s ', ' waypoint = ', waypoint_no)\n",
    "                print('average_min_distance = ', np.average(list_min_distance))\n",
    "                print('average_group_distance = ', np.average(list_ave_distance))\n",
    "                print('\\n')\n",
    "                counter = 0\n",
    "#################################################################################################################################\n",
    "            allSprites.clear(screen, background)\n",
    "            allSprites.draw(screen)\\\n",
    "\n",
    "            pygame.display.flip()\n",
    "        except:\n",
    "            print('unexpected error --- sorry')\n",
    "            keepGoing = False\n",
    "            \n",
    "    pygame.quit()\n",
    "    time2 = time.process_time()\n",
    "    delta_time = time2 - time1\n",
    "    return position,distances,closestneighbours,delta_time, \\\n",
    "           closest_particles_abs, closest_distances_abs, dist_twp, list_min_distance, list_ave_distance"
   ]
  },
  {
   "cell_type": "markdown",
   "metadata": {},
   "source": [
    "Below is the cell where the above code is run. \n",
    "\n",
    "Although I have run the code for a simulation time of 100 seconds, one can run is as long as he likes."
   ]
  },
  {
   "cell_type": "code",
   "execution_count": 7,
   "metadata": {
    "code_folding": [],
    "scrolled": true
   },
   "outputs": [
    {
     "name": "stdout",
     "output_type": "stream",
     "text": [
      "time =  0.01  s   waypoint =  0\n",
      "average_min_distance =  0.17000561550724083\n",
      "average_group_distance =  71.74748060508523\n",
      "\n",
      "\n",
      "time =  1.0100000000000007  s   waypoint =  0\n",
      "average_min_distance =  5.001807248830457\n",
      "average_group_distance =  112.8140407035157\n",
      "\n",
      "\n",
      "time =  2.010000000000001  s   waypoint =  0\n",
      "average_min_distance =  12.04856333245186\n",
      "average_group_distance =  109.64505997279086\n",
      "\n",
      "\n",
      "time =  3.00999999999998  s   waypoint =  0\n",
      "average_min_distance =  14.814432361914097\n",
      "average_group_distance =  102.56268522848626\n",
      "\n",
      "\n",
      "time =  4.009999999999959  s   waypoint =  0\n",
      "average_min_distance =  13.826960966408757\n",
      "average_group_distance =  93.88885440963152\n",
      "\n",
      "\n",
      "time =  5.009999999999938  s   waypoint =  0\n",
      "average_min_distance =  11.700826369111498\n",
      "average_group_distance =  87.4248357058278\n",
      "\n",
      "\n",
      "time =  6.009999999999916  s   waypoint =  0\n",
      "average_min_distance =  10.07039098532578\n",
      "average_group_distance =  83.26250796599959\n",
      "\n",
      "\n",
      "time =  7.009999999999895  s   waypoint =  0\n",
      "average_min_distance =  8.8287865369072\n",
      "average_group_distance =  80.41700267825438\n",
      "\n",
      "\n",
      "time =  8.009999999999874  s   waypoint =  0\n",
      "average_min_distance =  7.859993507491158\n",
      "average_group_distance =  78.35454823745279\n",
      "\n",
      "\n",
      "time =  9.009999999999852  s   waypoint =  0\n",
      "average_min_distance =  7.085099719331684\n",
      "average_group_distance =  76.68950393880024\n",
      "\n",
      "\n",
      "time =  10.009999999999831  s   waypoint =  0\n",
      "average_min_distance =  6.451787762843718\n",
      "average_group_distance =  75.41801837620184\n",
      "\n",
      "\n"
     ]
    }
   ],
   "source": [
    "# run\n",
    "if __name__ == \"__main__\":\n",
    "    position,distances,closestneighbours,delta_time, \\\n",
    "    closest_particles_abs,closest_distances_abs, dist_twp, list_min_distance, list_ave_distance = main()"
   ]
  },
  {
   "cell_type": "code",
   "execution_count": 8,
   "metadata": {},
   "outputs": [
    {
     "data": {
      "text/plain": [
       "array([[625.11136692, 673.35800479],\n",
       "       [698.40325374, 698.28194886],\n",
       "       [696.20774437, 664.72694479],\n",
       "       [659.85317744, 668.04014333],\n",
       "       [728.79459074, 581.0627733 ],\n",
       "       [713.15204919, 650.86774826],\n",
       "       [643.57681503, 653.11970089],\n",
       "       [611.52423848, 601.13243012],\n",
       "       [696.66436997, 598.90329767],\n",
       "       [625.73935933, 637.51581131],\n",
       "       [677.85108926, 618.26892585],\n",
       "       [730.36770052, 634.1156298 ],\n",
       "       [713.54538039, 618.70810965],\n",
       "       [677.99035113, 652.07125933],\n",
       "       [659.4246728 , 633.48476447],\n",
       "       [644.27429484, 692.91206802],\n",
       "       [641.63343033, 616.60639342],\n",
       "       [696.9038816 , 634.6299762 ],\n",
       "       [662.31112324, 711.80901231],\n",
       "       [679.99978596, 679.30724951],\n",
       "       [680.        , 680.        ]])"
      ]
     },
     "execution_count": 8,
     "metadata": {},
     "output_type": "execute_result"
    }
   ],
   "source": [
    "position"
   ]
  },
  {
   "cell_type": "code",
   "execution_count": null,
   "metadata": {},
   "outputs": [],
   "source": []
  }
 ],
 "metadata": {
  "kernelspec": {
   "display_name": "Python 3",
   "language": "python",
   "name": "python3"
  },
  "language_info": {
   "codemirror_mode": {
    "name": "ipython",
    "version": 3
   },
   "file_extension": ".py",
   "mimetype": "text/x-python",
   "name": "python",
   "nbconvert_exporter": "python",
   "pygments_lexer": "ipython3",
   "version": "3.7.6"
  },
  "toc": {
   "base_numbering": 1,
   "nav_menu": {},
   "number_sections": true,
   "sideBar": true,
   "skip_h1_title": false,
   "title_cell": "Table of Contents",
   "title_sidebar": "Contents",
   "toc_cell": false,
   "toc_position": {},
   "toc_section_display": true,
   "toc_window_display": false
  },
  "varInspector": {
   "cols": {
    "lenName": 16,
    "lenType": 16,
    "lenVar": 40
   },
   "kernels_config": {
    "python": {
     "delete_cmd_postfix": "",
     "delete_cmd_prefix": "del ",
     "library": "var_list.py",
     "varRefreshCmd": "print(var_dic_list())"
    },
    "r": {
     "delete_cmd_postfix": ") ",
     "delete_cmd_prefix": "rm(",
     "library": "var_list.r",
     "varRefreshCmd": "cat(var_dic_list()) "
    }
   },
   "types_to_exclude": [
    "module",
    "function",
    "builtin_function_or_method",
    "instance",
    "_Feature"
   ],
   "window_display": false
  }
 },
 "nbformat": 4,
 "nbformat_minor": 4
}
